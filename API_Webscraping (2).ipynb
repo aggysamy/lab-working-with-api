{
 "cells": [
  {
   "cell_type": "markdown",
   "id": "22ece1d3",
   "metadata": {},
   "source": [
    "WebScraping IV: attack of the APIs\n",
    "An API (Application Programming Interface) is a type of intermediary software that allows two applications to exchange information between them."
   ]
  },
  {
   "cell_type": "code",
   "execution_count": 1,
   "id": "342e9854",
   "metadata": {},
   "outputs": [
    {
     "name": "stdout",
     "output_type": "stream",
     "text": [
      "{\"items\":[{\"icao\":\"ZBAA\",\"iata\":\"PEK\",\"name\":\"Beijing, Beijing Capital\",\"shortName\":\"Capital\",\"municipalityName\":\"Beijing\",\"location\":{\"lat\":40.0801,\"lon\":116.585},\"countryCode\":\"CN\"},{\"icao\":\"ZBAD\",\"iata\":\"PKX\",\"name\":\"Beijing, Beijing Daxing\",\"shortName\":\"Daxing\",\"municipalityName\":\"Beijing\",\"location\":{\"lat\":39.509167,\"lon\":116.41055},\"countryCode\":\"CN\"},{\"icao\":\"ZBNY\",\"iata\":\"NAY\",\"name\":\"Beijing, Beijing Nanyuan\",\"shortName\":\"Nanyuan\",\"municipalityName\":\"Beijing\",\"location\":{\"lat\":39.7828,\"lon\":116.388},\"countryCode\":\"CN\"}]}\n"
     ]
    }
   ],
   "source": [
    "import requests\n",
    "\n",
    "url = \"https://aerodatabox.p.rapidapi.com/airports/search/term\"\n",
    "\n",
    "querystring = {\"q\":\"Beijing\",\"limit\":\"8\"}\n",
    "\n",
    "headers = {\n",
    "\t\"X-RapidAPI-Host\": \"aerodatabox.p.rapidapi.com\",\n",
    "\t\"X-RapidAPI-Key\": \"08779f2c8bmsha7a035dee543610p1e1286jsn36e9cc09506b\"\n",
    "}\n",
    "\n",
    "response = requests.request(\"GET\", url, headers=headers, params=querystring)\n",
    "\n",
    "print(response.text)"
   ]
  },
  {
   "cell_type": "code",
   "execution_count": 2,
   "id": "387338ea",
   "metadata": {},
   "outputs": [
    {
     "data": {
      "text/plain": [
       "{'items': [{'icao': 'ZBAA',\n",
       "   'iata': 'PEK',\n",
       "   'name': 'Beijing, Beijing Capital',\n",
       "   'shortName': 'Capital',\n",
       "   'municipalityName': 'Beijing',\n",
       "   'location': {'lat': 40.0801, 'lon': 116.585},\n",
       "   'countryCode': 'CN'},\n",
       "  {'icao': 'ZBAD',\n",
       "   'iata': 'PKX',\n",
       "   'name': 'Beijing, Beijing Daxing',\n",
       "   'shortName': 'Daxing',\n",
       "   'municipalityName': 'Beijing',\n",
       "   'location': {'lat': 39.509167, 'lon': 116.41055},\n",
       "   'countryCode': 'CN'},\n",
       "  {'icao': 'ZBNY',\n",
       "   'iata': 'NAY',\n",
       "   'name': 'Beijing, Beijing Nanyuan',\n",
       "   'shortName': 'Nanyuan',\n",
       "   'municipalityName': 'Beijing',\n",
       "   'location': {'lat': 39.7828, 'lon': 116.388},\n",
       "   'countryCode': 'CN'}]}"
      ]
     },
     "execution_count": 2,
     "metadata": {},
     "output_type": "execute_result"
    }
   ],
   "source": [
    "url = \"https://aerodatabox.p.rapidapi.com/airports/search/term\"\n",
    "\n",
    "querystring = {\"q\":\"Beijing\",\"limit\":\"8\"}\n",
    "\n",
    "# headers is like our loggin (always the same)\n",
    "headers = {\n",
    "    'x-rapidapi-host': \"aerodatabox.p.rapidapi.com\",\n",
    "    'x-rapidapi-key': \"9613ca6ca5msh62659872159916fp1a0a2cjsndd9a3e6ff324\" \n",
    "    }\n",
    "\n",
    "response = requests.get(url, headers=headers, params=querystring)\n",
    "response.json()"
   ]
  },
  {
   "cell_type": "markdown",
   "id": "e725cdf0",
   "metadata": {},
   "source": [
    "Working with JSON"
   ]
  },
  {
   "cell_type": "code",
   "execution_count": 3,
   "id": "0a28d556",
   "metadata": {},
   "outputs": [
    {
     "data": {
      "text/html": [
       "<div>\n",
       "<style scoped>\n",
       "    .dataframe tbody tr th:only-of-type {\n",
       "        vertical-align: middle;\n",
       "    }\n",
       "\n",
       "    .dataframe tbody tr th {\n",
       "        vertical-align: top;\n",
       "    }\n",
       "\n",
       "    .dataframe thead th {\n",
       "        text-align: right;\n",
       "    }\n",
       "</style>\n",
       "<table border=\"1\" class=\"dataframe\">\n",
       "  <thead>\n",
       "    <tr style=\"text-align: right;\">\n",
       "      <th></th>\n",
       "      <th>first_key</th>\n",
       "      <th>second_key</th>\n",
       "    </tr>\n",
       "  </thead>\n",
       "  <tbody>\n",
       "    <tr>\n",
       "      <th>0</th>\n",
       "      <td>[{'inner_first_key': 1, 'inner_second_key': 2}]</td>\n",
       "      <td>[{'inner_first_key': 1, 'inner_second_key': 2}]</td>\n",
       "    </tr>\n",
       "  </tbody>\n",
       "</table>\n",
       "</div>"
      ],
      "text/plain": [
       "                                         first_key  \\\n",
       "0  [{'inner_first_key': 1, 'inner_second_key': 2}]   \n",
       "\n",
       "                                        second_key  \n",
       "0  [{'inner_first_key': 1, 'inner_second_key': 2}]  "
      ]
     },
     "execution_count": 3,
     "metadata": {},
     "output_type": "execute_result"
    }
   ],
   "source": [
    "import pandas as pd\n",
    "\n",
    "json_1 = {'first_key': [{'inner_first_key': 1, 'inner_second_key': 2}],\n",
    "         'second_key': [{'inner_first_key': 1, 'inner_second_key': 2}]}\n",
    "\n",
    "pd.json_normalize(json_1)"
   ]
  },
  {
   "cell_type": "code",
   "execution_count": 4,
   "id": "274b44c1",
   "metadata": {},
   "outputs": [
    {
     "data": {
      "text/plain": [
       "[{'inner_first_key': 1, 'inner_second_key': 2}]"
      ]
     },
     "execution_count": 4,
     "metadata": {},
     "output_type": "execute_result"
    }
   ],
   "source": [
    "json_1[\"first_key\"]"
   ]
  },
  {
   "cell_type": "code",
   "execution_count": 5,
   "id": "8c6c7d8f",
   "metadata": {},
   "outputs": [
    {
     "data": {
      "text/html": [
       "<div>\n",
       "<style scoped>\n",
       "    .dataframe tbody tr th:only-of-type {\n",
       "        vertical-align: middle;\n",
       "    }\n",
       "\n",
       "    .dataframe tbody tr th {\n",
       "        vertical-align: top;\n",
       "    }\n",
       "\n",
       "    .dataframe thead th {\n",
       "        text-align: right;\n",
       "    }\n",
       "</style>\n",
       "<table border=\"1\" class=\"dataframe\">\n",
       "  <thead>\n",
       "    <tr style=\"text-align: right;\">\n",
       "      <th></th>\n",
       "      <th>first_key_inner_first_key</th>\n",
       "      <th>first_key_inner_second_key</th>\n",
       "      <th>second_key_inner_first_key</th>\n",
       "      <th>second_key_inner_second_key</th>\n",
       "    </tr>\n",
       "  </thead>\n",
       "  <tbody>\n",
       "    <tr>\n",
       "      <th>0</th>\n",
       "      <td>1</td>\n",
       "      <td>2</td>\n",
       "      <td>1</td>\n",
       "      <td>2</td>\n",
       "    </tr>\n",
       "  </tbody>\n",
       "</table>\n",
       "</div>"
      ],
      "text/plain": [
       "   first_key_inner_first_key  first_key_inner_second_key  \\\n",
       "0                          1                           2   \n",
       "\n",
       "   second_key_inner_first_key  second_key_inner_second_key  \n",
       "0                           1                            2  "
      ]
     },
     "execution_count": 5,
     "metadata": {},
     "output_type": "execute_result"
    }
   ],
   "source": [
    "dct = {'first_key_inner_first_key': 1, 'first_key_inner_second_key': 2, 'second_key_inner_first_key': 1, 'second_key_inner_second_key': 2}\n",
    "\n",
    "pd.DataFrame.from_dict(dct, orient='index').T"
   ]
  },
  {
   "cell_type": "code",
   "execution_count": 6,
   "id": "f9d2731a",
   "metadata": {},
   "outputs": [
    {
     "data": {
      "text/plain": [
       "[{'icao': 'ZBAA',\n",
       "  'iata': 'PEK',\n",
       "  'name': 'Beijing, Beijing Capital',\n",
       "  'shortName': 'Capital',\n",
       "  'municipalityName': 'Beijing',\n",
       "  'location': {'lat': 40.0801, 'lon': 116.585},\n",
       "  'countryCode': 'CN'},\n",
       " {'icao': 'ZBAD',\n",
       "  'iata': 'PKX',\n",
       "  'name': 'Beijing, Beijing Daxing',\n",
       "  'shortName': 'Daxing',\n",
       "  'municipalityName': 'Beijing',\n",
       "  'location': {'lat': 39.509167, 'lon': 116.41055},\n",
       "  'countryCode': 'CN'},\n",
       " {'icao': 'ZBNY',\n",
       "  'iata': 'NAY',\n",
       "  'name': 'Beijing, Beijing Nanyuan',\n",
       "  'shortName': 'Nanyuan',\n",
       "  'municipalityName': 'Beijing',\n",
       "  'location': {'lat': 39.7828, 'lon': 116.388},\n",
       "  'countryCode': 'CN'}]"
      ]
     },
     "execution_count": 6,
     "metadata": {},
     "output_type": "execute_result"
    }
   ],
   "source": [
    "import pandas as pd\n",
    "\n",
    "# Normalize the response\n",
    "\n",
    "r_json = response.json()\n",
    "r_json['items']"
   ]
  },
  {
   "cell_type": "code",
   "execution_count": 7,
   "id": "eac22de7",
   "metadata": {},
   "outputs": [
    {
     "data": {
      "text/html": [
       "<div>\n",
       "<style scoped>\n",
       "    .dataframe tbody tr th:only-of-type {\n",
       "        vertical-align: middle;\n",
       "    }\n",
       "\n",
       "    .dataframe tbody tr th {\n",
       "        vertical-align: top;\n",
       "    }\n",
       "\n",
       "    .dataframe thead th {\n",
       "        text-align: right;\n",
       "    }\n",
       "</style>\n",
       "<table border=\"1\" class=\"dataframe\">\n",
       "  <thead>\n",
       "    <tr style=\"text-align: right;\">\n",
       "      <th></th>\n",
       "      <th>icao</th>\n",
       "      <th>iata</th>\n",
       "      <th>name</th>\n",
       "      <th>shortName</th>\n",
       "      <th>municipalityName</th>\n",
       "      <th>location</th>\n",
       "      <th>countryCode</th>\n",
       "    </tr>\n",
       "  </thead>\n",
       "  <tbody>\n",
       "    <tr>\n",
       "      <th>0</th>\n",
       "      <td>ZBAA</td>\n",
       "      <td>PEK</td>\n",
       "      <td>Beijing, Beijing Capital</td>\n",
       "      <td>Capital</td>\n",
       "      <td>Beijing</td>\n",
       "      <td>{'lat': 40.0801, 'lon': 116.585}</td>\n",
       "      <td>CN</td>\n",
       "    </tr>\n",
       "    <tr>\n",
       "      <th>1</th>\n",
       "      <td>ZBAD</td>\n",
       "      <td>PKX</td>\n",
       "      <td>Beijing, Beijing Daxing</td>\n",
       "      <td>Daxing</td>\n",
       "      <td>Beijing</td>\n",
       "      <td>{'lat': 39.509167, 'lon': 116.41055}</td>\n",
       "      <td>CN</td>\n",
       "    </tr>\n",
       "    <tr>\n",
       "      <th>2</th>\n",
       "      <td>ZBNY</td>\n",
       "      <td>NAY</td>\n",
       "      <td>Beijing, Beijing Nanyuan</td>\n",
       "      <td>Nanyuan</td>\n",
       "      <td>Beijing</td>\n",
       "      <td>{'lat': 39.7828, 'lon': 116.388}</td>\n",
       "      <td>CN</td>\n",
       "    </tr>\n",
       "  </tbody>\n",
       "</table>\n",
       "</div>"
      ],
      "text/plain": [
       "   icao iata                      name shortName municipalityName  \\\n",
       "0  ZBAA  PEK  Beijing, Beijing Capital   Capital          Beijing   \n",
       "1  ZBAD  PKX   Beijing, Beijing Daxing    Daxing          Beijing   \n",
       "2  ZBNY  NAY  Beijing, Beijing Nanyuan   Nanyuan          Beijing   \n",
       "\n",
       "                               location countryCode  \n",
       "0      {'lat': 40.0801, 'lon': 116.585}          CN  \n",
       "1  {'lat': 39.509167, 'lon': 116.41055}          CN  \n",
       "2      {'lat': 39.7828, 'lon': 116.388}          CN  "
      ]
     },
     "execution_count": 7,
     "metadata": {},
     "output_type": "execute_result"
    }
   ],
   "source": [
    "### Converting json into dataframe\n",
    "df_json = pd.json_normalize(r_json[\"items\"]) #OPTION 1\n",
    "df_json = pd.DataFrame.from_dict(r_json[\"items\"]) #OPTION 2\n",
    "df_json  # not good"
   ]
  },
  {
   "cell_type": "code",
   "execution_count": 8,
   "id": "55bd6196",
   "metadata": {},
   "outputs": [
    {
     "data": {
      "text/plain": [
       "{'items': [{'icao': 'ZGGG',\n",
       "   'iata': 'CAN',\n",
       "   'name': 'Guangzhou, Guangzhou Baiyun',\n",
       "   'shortName': 'Baiyun',\n",
       "   'municipalityName': 'Guangzhou',\n",
       "   'location': {'lat': 23.3924, 'lon': 113.299},\n",
       "   'countryCode': 'CN'},\n",
       "  {'icao': 'ZHGH',\n",
       "   'iata': 'LHK',\n",
       "   'name': 'Guanghua, Guangzhou MR Air Base',\n",
       "   'shortName': 'Guangzhou MR Air Base',\n",
       "   'municipalityName': 'Guanghua',\n",
       "   'location': {'lat': 32.3894, 'lon': 111.695},\n",
       "   'countryCode': 'CN'}]}"
      ]
     },
     "execution_count": 8,
     "metadata": {},
     "output_type": "execute_result"
    }
   ],
   "source": [
    "querystring = {\"q\":\"Guangzhou\",\"limit\":\"8\"}\n",
    "\n",
    "response = requests.request(\"GET\", url, headers=headers, params=querystring)\n",
    "results = response.json()\n",
    "results"
   ]
  },
  {
   "cell_type": "code",
   "execution_count": 9,
   "id": "b3cc5183",
   "metadata": {},
   "outputs": [
    {
     "data": {
      "text/plain": [
       "{'icao': 'ZHGH',\n",
       " 'iata': 'LHK',\n",
       " 'name': 'Guanghua, Guangzhou MR Air Base',\n",
       " 'shortName': 'Guangzhou MR Air Base',\n",
       " 'municipalityName': 'Guanghua',\n",
       " 'location': {'lat': 32.3894, 'lon': 111.695},\n",
       " 'countryCode': 'CN'}"
      ]
     },
     "execution_count": 9,
     "metadata": {},
     "output_type": "execute_result"
    }
   ],
   "source": [
    "results['items'][1]"
   ]
  },
  {
   "cell_type": "code",
   "execution_count": 10,
   "id": "d9d8c08f",
   "metadata": {},
   "outputs": [
    {
     "data": {
      "text/html": [
       "<div>\n",
       "<style scoped>\n",
       "    .dataframe tbody tr th:only-of-type {\n",
       "        vertical-align: middle;\n",
       "    }\n",
       "\n",
       "    .dataframe tbody tr th {\n",
       "        vertical-align: top;\n",
       "    }\n",
       "\n",
       "    .dataframe thead th {\n",
       "        text-align: right;\n",
       "    }\n",
       "</style>\n",
       "<table border=\"1\" class=\"dataframe\">\n",
       "  <thead>\n",
       "    <tr style=\"text-align: right;\">\n",
       "      <th></th>\n",
       "      <th>icao</th>\n",
       "      <th>iata</th>\n",
       "      <th>name</th>\n",
       "      <th>shortName</th>\n",
       "      <th>municipalityName</th>\n",
       "      <th>countryCode</th>\n",
       "      <th>location.lat</th>\n",
       "      <th>location.lon</th>\n",
       "    </tr>\n",
       "  </thead>\n",
       "  <tbody>\n",
       "    <tr>\n",
       "      <th>0</th>\n",
       "      <td>ZGGG</td>\n",
       "      <td>CAN</td>\n",
       "      <td>Guangzhou, Guangzhou Baiyun</td>\n",
       "      <td>Baiyun</td>\n",
       "      <td>Guangzhou</td>\n",
       "      <td>CN</td>\n",
       "      <td>23.3924</td>\n",
       "      <td>113.299</td>\n",
       "    </tr>\n",
       "    <tr>\n",
       "      <th>1</th>\n",
       "      <td>ZHGH</td>\n",
       "      <td>LHK</td>\n",
       "      <td>Guanghua, Guangzhou MR Air Base</td>\n",
       "      <td>Guangzhou MR Air Base</td>\n",
       "      <td>Guanghua</td>\n",
       "      <td>CN</td>\n",
       "      <td>32.3894</td>\n",
       "      <td>111.695</td>\n",
       "    </tr>\n",
       "  </tbody>\n",
       "</table>\n",
       "</div>"
      ],
      "text/plain": [
       "   icao iata                             name              shortName  \\\n",
       "0  ZGGG  CAN      Guangzhou, Guangzhou Baiyun                 Baiyun   \n",
       "1  ZHGH  LHK  Guanghua, Guangzhou MR Air Base  Guangzhou MR Air Base   \n",
       "\n",
       "  municipalityName countryCode  location.lat  location.lon  \n",
       "0        Guangzhou          CN       23.3924       113.299  \n",
       "1         Guanghua          CN       32.3894       111.695  "
      ]
     },
     "execution_count": 10,
     "metadata": {},
     "output_type": "execute_result"
    }
   ],
   "source": [
    "pd.json_normalize(results['items'])"
   ]
  },
  {
   "cell_type": "code",
   "execution_count": 11,
   "id": "4630de17",
   "metadata": {},
   "outputs": [
    {
     "name": "stdout",
     "output_type": "stream",
     "text": [
      "{'from': {'icao': 'LPPT', 'iata': 'LIS', 'name': 'Lisbon, Lisbon Portela', 'shortName': 'Portela', 'municipalityName': 'Lisbon', 'location': {'lat': 38.7813, 'lon': -9.135919}, 'countryCode': 'PT'}, 'to': {'icao': 'CYYZ', 'iata': 'YYZ', 'name': 'Toronto, Lester B. Pearson', 'shortName': 'Lester B. Pearson', 'municipalityName': 'Toronto', 'location': {'lat': 43.6772, 'lon': -79.6306}, 'countryCode': 'CA'}, 'greatCircleDistance': {'meter': 5746862.05, 'km': 5746.862, 'mile': 3570.935, 'nm': 3103.057, 'feet': 18854534.28}, 'approxFlightTime': '07:15:00'}\n"
     ]
    }
   ],
   "source": [
    "# first we needed to get the icao codes, now we can look for time and distance of flights\n",
    "icao_from = 'LPPT'\n",
    "icao_to = 'CYYZ'\n",
    "\n",
    "url = f\"https://aerodatabox.p.rapidapi.com/airports/icao/{icao_from}/distance-time/{icao_to}\"\n",
    "\n",
    "\n",
    "response = requests.get(url, headers=headers)\n",
    "\n",
    "print(response.json())"
   ]
  },
  {
   "cell_type": "code",
   "execution_count": 12,
   "id": "42760bd2",
   "metadata": {},
   "outputs": [
    {
     "data": {
      "text/html": [
       "<div>\n",
       "<style scoped>\n",
       "    .dataframe tbody tr th:only-of-type {\n",
       "        vertical-align: middle;\n",
       "    }\n",
       "\n",
       "    .dataframe tbody tr th {\n",
       "        vertical-align: top;\n",
       "    }\n",
       "\n",
       "    .dataframe thead th {\n",
       "        text-align: right;\n",
       "    }\n",
       "</style>\n",
       "<table border=\"1\" class=\"dataframe\">\n",
       "  <thead>\n",
       "    <tr style=\"text-align: right;\">\n",
       "      <th></th>\n",
       "      <th>approxFlightTime</th>\n",
       "      <th>from.icao</th>\n",
       "      <th>from.iata</th>\n",
       "      <th>from.name</th>\n",
       "      <th>from.shortName</th>\n",
       "      <th>from.municipalityName</th>\n",
       "      <th>from.location.lat</th>\n",
       "      <th>from.location.lon</th>\n",
       "      <th>from.countryCode</th>\n",
       "      <th>to.icao</th>\n",
       "      <th>...</th>\n",
       "      <th>to.shortName</th>\n",
       "      <th>to.municipalityName</th>\n",
       "      <th>to.location.lat</th>\n",
       "      <th>to.location.lon</th>\n",
       "      <th>to.countryCode</th>\n",
       "      <th>greatCircleDistance.meter</th>\n",
       "      <th>greatCircleDistance.km</th>\n",
       "      <th>greatCircleDistance.mile</th>\n",
       "      <th>greatCircleDistance.nm</th>\n",
       "      <th>greatCircleDistance.feet</th>\n",
       "    </tr>\n",
       "  </thead>\n",
       "  <tbody>\n",
       "    <tr>\n",
       "      <th>0</th>\n",
       "      <td>07:15:00</td>\n",
       "      <td>LPPT</td>\n",
       "      <td>LIS</td>\n",
       "      <td>Lisbon, Lisbon Portela</td>\n",
       "      <td>Portela</td>\n",
       "      <td>Lisbon</td>\n",
       "      <td>38.7813</td>\n",
       "      <td>-9.135919</td>\n",
       "      <td>PT</td>\n",
       "      <td>CYYZ</td>\n",
       "      <td>...</td>\n",
       "      <td>Lester B. Pearson</td>\n",
       "      <td>Toronto</td>\n",
       "      <td>43.6772</td>\n",
       "      <td>-79.6306</td>\n",
       "      <td>CA</td>\n",
       "      <td>5746862.05</td>\n",
       "      <td>5746.862</td>\n",
       "      <td>3570.935</td>\n",
       "      <td>3103.057</td>\n",
       "      <td>18854534.28</td>\n",
       "    </tr>\n",
       "  </tbody>\n",
       "</table>\n",
       "<p>1 rows × 22 columns</p>\n",
       "</div>"
      ],
      "text/plain": [
       "  approxFlightTime from.icao from.iata               from.name from.shortName  \\\n",
       "0         07:15:00      LPPT       LIS  Lisbon, Lisbon Portela        Portela   \n",
       "\n",
       "  from.municipalityName  from.location.lat  from.location.lon  \\\n",
       "0                Lisbon            38.7813          -9.135919   \n",
       "\n",
       "  from.countryCode to.icao  ...       to.shortName to.municipalityName  \\\n",
       "0               PT    CYYZ  ...  Lester B. Pearson             Toronto   \n",
       "\n",
       "  to.location.lat to.location.lon  to.countryCode  greatCircleDistance.meter  \\\n",
       "0         43.6772        -79.6306              CA                 5746862.05   \n",
       "\n",
       "  greatCircleDistance.km  greatCircleDistance.mile  greatCircleDistance.nm  \\\n",
       "0               5746.862                  3570.935                3103.057   \n",
       "\n",
       "   greatCircleDistance.feet  \n",
       "0               18854534.28  \n",
       "\n",
       "[1 rows x 22 columns]"
      ]
     },
     "execution_count": 12,
     "metadata": {},
     "output_type": "execute_result"
    }
   ],
   "source": [
    "pd.json_normalize(response.json())"
   ]
  },
  {
   "cell_type": "markdown",
   "id": "a4cc8778",
   "metadata": {},
   "source": [
    "Some cool functions to make things easier"
   ]
  },
  {
   "cell_type": "code",
   "execution_count": 13,
   "id": "7f408826",
   "metadata": {},
   "outputs": [],
   "source": [
    "# headers won't change\n",
    "headers = {\n",
    "    'x-rapidapi-host': \"aerodatabox.p.rapidapi.com\",\n",
    "    'x-rapidapi-key': \"9613ca6ca5msh62659872159916fp1a0a2cjsndd9a3e6ff324\"\n",
    "    }\n",
    "\n",
    "\n",
    "def get_codes():\n",
    "    \n",
    "    location = input('Insert location:')\n",
    "    print()\n",
    "    \n",
    "    url = \"https://aerodatabox.p.rapidapi.com/airports/search/term\"\n",
    "    querystring = {\"q\":location.lower(), \"limit\":\"10\"}\n",
    "\n",
    "    response = requests.get(url, headers=headers, params=querystring)\n",
    "    codes = response.json()['items'] if 'items' in response.json() else location\n",
    "\n",
    "    return codes\n",
    "\n",
    "\n",
    "def choose_code():\n",
    "    \n",
    "    codes = get_codes()\n",
    "    #print(codes)\n",
    "    \n",
    "    while type(codes) is str or len(codes) > 1:\n",
    "        \n",
    "        if not codes:\n",
    "            print('Try another location. Unable to find code for:', codes, '\\n')\n",
    "        else:\n",
    "            print('More than one location found. Insert one of the following airports:', [code['shortName'] for code in codes], '\\n')\n",
    "        \n",
    "        codes = get_codes()\n",
    "    \n",
    "    return codes[0]['icao']\n",
    "\n",
    "\n",
    "def flight_distance_time(from_, to_):\n",
    "    url = f\"https://aerodatabox.p.rapidapi.com/airports/icao/{from_}/distance-time/{to_}\"\n",
    "    response = requests.get(url, headers=headers)\n",
    "    return pd.json_normalize(response.json()).T"
   ]
  },
  {
   "cell_type": "code",
   "execution_count": null,
   "id": "a1b0b8c0",
   "metadata": {},
   "outputs": [],
   "source": [
    "print('[DEPARTURE]')\n",
    "from_ = choose_code()\n",
    "print('[DESTINATION]')\n",
    "to_ = choose_code()\n",
    "\n",
    "flight_df = flight_distance_time(from_, to_)\n",
    "flight_df"
   ]
  },
  {
   "cell_type": "code",
   "execution_count": null,
   "id": "46764cd4",
   "metadata": {},
   "outputs": [],
   "source": []
  }
 ],
 "metadata": {
  "kernelspec": {
   "display_name": "Python 3 (ipykernel)",
   "language": "python",
   "name": "python3"
  },
  "language_info": {
   "codemirror_mode": {
    "name": "ipython",
    "version": 3
   },
   "file_extension": ".py",
   "mimetype": "text/x-python",
   "name": "python",
   "nbconvert_exporter": "python",
   "pygments_lexer": "ipython3",
   "version": "3.9.7"
  }
 },
 "nbformat": 4,
 "nbformat_minor": 5
}
